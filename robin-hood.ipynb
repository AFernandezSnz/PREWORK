{
 "cells": [
  {
   "cell_type": "markdown",
   "metadata": {},
   "source": [
    "<img src=\"https://bit.ly/2VnXWr2\" width=\"100\" align=\"left\"/>"
   ]
  },
  {
   "cell_type": "markdown",
   "metadata": {},
   "source": [
    "# Robin Hood\n",
    "Robin Hood has entered a competition to win the archery contest in Sherwood. With his bow and arrows, he needs to shoot on a target and try to hit as close as possible to the center.\n",
    "\n",
    "![](images/arrows.jpg)\n",
    "\n",
    "## Context\n",
    "In this challenge, the landing position of arrows shot by archers in the competition will be represented using 2-dimensional coordinates. \n",
    "\n",
    "In the 2-dimensional space, a point can be defined by a pair of values that correspond to the horizontal coordinate (x) and the vertical coordinate (y). For example, in our case, an arrow that hits the center of the archery target will land in position (0, 0) on the coordinate axes. \n",
    "\n",
    "The space can be divided into 4 zones (quadrants): Q1, Q2, Q3, Q4. If a point is in Q1, both its x coordinate and y coordinate are positive. Any point with a null x or y coordinate is considered to not belong to any quadrant. \n",
    "\n",
    "If you want to know more about the cartesian coordinate system, you can check this [link](https://en.wikipedia.org/wiki/Cartesian_coordinate_system). \n",
    "\n",
    "## Tools\n",
    "You don't necessarily need to use all the tools. Maybe you opt to use some of them or completely different ones, they are given to help you shape the exercise. Programming exercises can be solved in many different ways.\n",
    "* Data structures: **lists, sets, tuples**\n",
    "* Conditional statements: **if-elif-else**\n",
    "* Loop: **while/for**\n",
    "* Minimum (optional sorting)\n",
    "\n",
    "## Tasks\n",
    "Robin Hood has hit the following points:"
   ]
  },
  {
   "cell_type": "code",
   "execution_count": 1,
   "metadata": {},
   "outputs": [],
   "source": [
    "points = [(4, 5), (-0, 2), (4, 7), (1, -3), (3, -2), (4, 5), (3, 2), (5, 7), (-5, 7), (2, 2), (-4, 5), (0, -2),\n",
    "          (-4, 7), (-1, 3), (-3, 2), (-4, -5), (-3, 2), (5, 7), (5, 7), (2, 2), (9, 9), (-8, -9)]"
   ]
  },
  {
   "cell_type": "markdown",
   "metadata": {},
   "source": [
    "#### 1. Robin Hood is famous for hitting an arrow with another arrow. Find the coordinates of the points where an arrow hits another arrow."
   ]
  },
  {
   "cell_type": "code",
   "execution_count": 6,
   "metadata": {},
   "outputs": [
    {
     "name": "stdout",
     "output_type": "stream",
     "text": [
      "This coordinate has been hitting by other arrow (4, 5)\n",
      "This coordinate has been hitting by other arrow (4, 5)\n",
      "This coordinate has been hitting by other arrow (5, 7)\n",
      "This coordinate has been hitting by other arrow (2, 2)\n",
      "This coordinate has been hitting by other arrow (-3, 2)\n",
      "This coordinate has been hitting by other arrow (-3, 2)\n",
      "This coordinate has been hitting by other arrow (5, 7)\n",
      "This coordinate has been hitting by other arrow (5, 7)\n",
      "This coordinate has been hitting by other arrow (2, 2)\n"
     ]
    }
   ],
   "source": [
    "for point in points:\n",
    "    if points.count(point) > 1:\n",
    "        print(\"This coordinate has been hitting by other arrow\",point)"
   ]
  },
  {
   "cell_type": "markdown",
   "metadata": {},
   "source": [
    "#### 2. Calculate how many arrows have fallen in each quadrant. \n",
    "**Note**: the arrows that fall in the axis (x=0 or y=0) don't belong to any quadrant."
   ]
  },
  {
   "cell_type": "code",
   "execution_count": 24,
   "metadata": {},
   "outputs": [
    {
     "name": "stdout",
     "output_type": "stream",
     "text": [
      "(0, 2) It does hit the axis, so it doesn't belong to any cuadrant\n",
      "(0, -2) It does hit the axis, so it doesn't belong to any cuadrant\n",
      "The number of arrows in Q1 is: 10\n",
      "The points where the arrow hit in Q1 are: [(4, 5), (4, 7), (4, 5), (3, 2), (5, 7), (2, 2), (5, 7), (5, 7), (2, 2), (9, 9)]\n",
      "The number of arrows in Q2 is: 6\n",
      "The points where the arrow hit in Q2 are: [(-5, 7), (-4, 5), (-4, 7), (-1, 3), (-3, 2), (-3, 2)]\n",
      "The number of arrows in Q3 is: 2\n",
      "The points where the arrow hit in Q3 are: [(1, -3), (3, -2)]\n",
      "The number of arrows in Q4 is: 2\n",
      "The points where the arrow hit in Q4 are: [(-4, -5), (-8, -9)]\n"
     ]
    }
   ],
   "source": [
    "q1=0\n",
    "q2=0\n",
    "q3=0\n",
    "q4=0\n",
    "Q1=[]\n",
    "Q2=[]\n",
    "Q3=[]\n",
    "Q4=[]\n",
    "for x,y in points:\n",
    "    if x>0 and y>0:\n",
    "        q1+=1\n",
    "        Q1.append((x,y))\n",
    "    elif x>0 and y<0:\n",
    "        q3+=1\n",
    "        Q3.append((x,y))\n",
    "    elif x<0 and y>0:\n",
    "        q2+=1\n",
    "        Q2.append((x,y))\n",
    "    elif x<0 and y<0:\n",
    "        q4+=1\n",
    "        Q4.append((x,y))\n",
    "    else:\n",
    "        print((x,y),\"It does hit the axis, so it doesn't belong to any cuadrant\")\n",
    "print(\"The number of arrows in Q1 is:\",q1)\n",
    "print(\"The points where the arrow hit in Q1 are:\",Q1)\n",
    "print(\"The number of arrows in Q2 is:\",q2)\n",
    "print(\"The points where the arrow hit in Q2 are:\",Q2)\n",
    "print(\"The number of arrows in Q3 is:\",q3)\n",
    "print(\"The points where the arrow hit in Q3 are:\",Q3)\n",
    "print(\"The number of arrows in Q4 is:\",q4)\n",
    "print(\"The points where the arrow hit in Q4 are:\",Q4) \n"
   ]
  },
  {
   "cell_type": "markdown",
   "metadata": {},
   "source": [
    "#### 3. Find the point closest to the center. Calculate its distance to the center. \n",
    "Take into account that there might be more than one point at the minimum distance to the center.\n",
    "\n",
    "**Hint**: Use the Euclidean distance. You can find more information about it [here](https://en.wikipedia.org/wiki/Euclidean_distance).  \n",
    "**Hint**: Defining a function that calculates the distance to the center can help."
   ]
  },
  {
   "cell_type": "code",
   "execution_count": 165,
   "metadata": {},
   "outputs": [
    {
     "name": "stdout",
     "output_type": "stream",
     "text": [
      "[6.4, 2.0, 8.06, 3.16, 3.61, 6.4, 3.61, 8.6, 8.6, 2.83, 6.4, 2.0, 8.06, 3.16, 3.61, 6.4, 3.61, 8.6, 8.6, 2.83, 12.73, 12.04]\n",
      "The minimun distance is: 2.0 and it is at the point (0, 2)\n",
      "The minimun distance is: 2.0 and it is at the point (0, -2)\n"
     ]
    }
   ],
   "source": [
    "distance=0\n",
    "DISTANCE=[]\n",
    "dis_point=[]\n",
    "\n",
    "def ecluidean(list,m,p):\n",
    "    m=0\n",
    "    p=0\n",
    "    for x,y in points:\n",
    "        distance =+((x-m)**2)+(y-p)**2\n",
    "        DISTANCE.append(round(distance**(1/2),2))\n",
    "        dis_point.append((round(distance**(1/2),2),(x,y)))\n",
    "       \n",
    "ecluidean (points,0,0)\n",
    "mini_dist=min(DISTANCE)\n",
    "print(DISTANCE)\n",
    "for a,b in dis_point:\n",
    "    if a==mini_dist:\n",
    "        print(\"The minimun distance is:\",min(DISTANCE),\"and it is at the point\",b)\n",
    "        \n"
   ]
  },
  {
   "cell_type": "code",
   "execution_count": null,
   "metadata": {},
   "outputs": [],
   "source": []
  },
  {
   "cell_type": "markdown",
   "metadata": {},
   "source": [
    "#### 4. If the archery target has a radius of 9, calculate the number of arrows that won't hit the target. \n",
    "**Hint**: Use the function created in step 3. "
   ]
  },
  {
   "cell_type": "code",
   "execution_count": 166,
   "metadata": {},
   "outputs": [
    {
     "name": "stdout",
     "output_type": "stream",
     "text": [
      "[6.4, 2.0, 8.06, 3.16, 3.61, 6.4, 3.61, 8.6, 8.6, 2.83, 6.4, 2.0, 8.06, 3.16, 3.61, 6.4, 3.61, 8.6, 8.6, 2.83, 12.73, 12.04]\n",
      "The number of arrows that won't fit the target are: 2\n"
     ]
    }
   ],
   "source": [
    "distance=0\n",
    "DISTANCE=[]\n",
    "ecluidean (points,0,0)\n",
    "not_target=[]\n",
    "\n",
    "for i in DISTANCE:\n",
    "    if i>9:\n",
    "        not_target.append(i)\n",
    "    \n",
    "print(\"The number of arrows that won't fit the target are:\",len(not_target))\n",
    "\n",
    "\n",
    "    \n",
    "    \n"
   ]
  }
 ],
 "metadata": {
  "kernelspec": {
   "display_name": "Python 3",
   "language": "python",
   "name": "python3"
  },
  "language_info": {
   "codemirror_mode": {
    "name": "ipython",
    "version": 3
   },
   "file_extension": ".py",
   "mimetype": "text/x-python",
   "name": "python",
   "nbconvert_exporter": "python",
   "pygments_lexer": "ipython3",
   "version": "3.7.4"
  }
 },
 "nbformat": 4,
 "nbformat_minor": 2
}
