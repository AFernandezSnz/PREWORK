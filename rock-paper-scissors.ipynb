{
 "cells": [
  {
   "cell_type": "markdown",
   "metadata": {},
   "source": [
    "<img src=\"https://bit.ly/2VnXWr2\" width=\"100\" align=\"left\">"
   ]
  },
  {
   "cell_type": "markdown",
   "metadata": {},
   "source": [
    "# Rock, Paper & Scissors\n",
    "\n",
    "Let's play the famous game against our computer. You can check the rules [here](https://en.wikipedia.org/wiki/Rock%E2%80%93paper%E2%80%93scissors). \n",
    "\n",
    "## Task\n",
    "Create a program that imitates the playability of the well known game of rock, paper, scissors. Follow the guidelines provided.\n",
    "\n",
    "## Tools\n",
    "1. Loop: **for/while**\n",
    "2. Functions: **input(), print()...**\n",
    "3. Conditional statements: **if, elif, else**\n",
    "4. Definition of functions. Modular programming\n",
    "5. Import modules\n",
    "\n",
    "**To solve this challenge, the use of functions is recommended.**\n",
    "\n",
    "#### 1. Import the choice function of the random module."
   ]
  },
  {
   "cell_type": "code",
   "execution_count": 533,
   "metadata": {},
   "outputs": [],
   "source": [
    "from random import choice"
   ]
  },
  {
   "cell_type": "markdown",
   "metadata": {},
   "source": [
    "#### 2. Create a list that includes the 3 possible gesture options of the game: 'rock', 'paper' or 'scissors'. Store the list in a variable called `gestures`."
   ]
  },
  {
   "cell_type": "code",
   "execution_count": 609,
   "metadata": {},
   "outputs": [],
   "source": [
    "gestures=[\"Rock\",\"Paper\",\"Scissors\"]"
   ]
  },
  {
   "cell_type": "markdown",
   "metadata": {},
   "source": [
    "#### 3. Create a variable called `n_rounds` to store the maximum number of rounds to play in a game. \n",
    "Remember that the number of rounds must be odd: 1, 3, 5, ..."
   ]
  },
  {
   "cell_type": "code",
   "execution_count": 610,
   "metadata": {},
   "outputs": [],
   "source": [
    "n_rounds=5\n",
    "total_rounds=0"
   ]
  },
  {
   "cell_type": "markdown",
   "metadata": {},
   "source": [
    "#### 4. Create a variable called `rounds_to_win` to store the number of rounds that a player must win to win the game.\n",
    "**Hint**: the value stored in `rounds_to_win` depends on the value of `n_rounds`. "
   ]
  },
  {
   "cell_type": "code",
   "execution_count": 611,
   "metadata": {},
   "outputs": [],
   "source": [
    "player_round_win=0\n",
    "rounds_to_win=n_rounds - player_round_win"
   ]
  },
  {
   "cell_type": "markdown",
   "metadata": {},
   "source": [
    "#### 5. Create two variables to store the number of rounds that the computer and the player have won. Call these variables `cpu_score` and `player_score`."
   ]
  },
  {
   "cell_type": "code",
   "execution_count": 612,
   "metadata": {},
   "outputs": [],
   "source": [
    "cpu_score=0\n",
    "player_score=0\n",
    "result=0"
   ]
  },
  {
   "cell_type": "markdown",
   "metadata": {},
   "source": [
    "#### 6. Define a function that randomly returns one of the 3 gesture options.\n",
    "You will use this function to simulate the gesture choice of the computer. "
   ]
  },
  {
   "cell_type": "code",
   "execution_count": 613,
   "metadata": {},
   "outputs": [],
   "source": [
    "cpu=\"\"\n",
    "def playcomputer():\n",
    "    global cpu\n",
    "    cpu=\"\"\n",
    "    cpu+=(choice(gestures))\n",
    "    print(\"The computer choose\",cpu)\n"
   ]
  },
  {
   "cell_type": "markdown",
   "metadata": {},
   "source": [
    "#### 7. Define a function that asks the player which is the gesture he or she wants to show: 'rock', 'paper' or 'scissors'.\n",
    "The player should only be allowed to choose one of the 3 gesture options. If the player's choice is not rock, paper or scissors, keep asking until it is."
   ]
  },
  {
   "cell_type": "code",
   "execution_count": 614,
   "metadata": {},
   "outputs": [],
   "source": [
    "pl=\"\"\n",
    "def choose():\n",
    "    p=input(\"Let's Play!!Rock, Paper, Scissors? \") \n",
    "    while True:\n",
    "        if p not in gestures:\n",
    "            p=input(\"Try again!:\")\n",
    "        else:\n",
    "            global pl\n",
    "            pl=\"\"\n",
    "            pl+=p\n",
    "            print(\"The player choose\",pl)\n",
    "            break"
   ]
  },
  {
   "cell_type": "markdown",
   "metadata": {},
   "source": [
    "#### 8. Define a function that checks who won a round. \n",
    "The function should return 0 if there is a tie, 1 if the computer wins and 2 if the player wins."
   ]
  },
  {
   "cell_type": "code",
   "execution_count": 615,
   "metadata": {},
   "outputs": [],
   "source": [
    "    def play(pl,cpu):\n",
    "        global total_rounds\n",
    "        global result\n",
    "        total_rounds+=1\n",
    "        if pl==cpu:\n",
    "            print(0)\n",
    "            result=0\n",
    "        elif pl==\"Rock\":\n",
    "            if cpu==\"Paper\":\n",
    "                print(1)\n",
    "                result=1\n",
    "            elif cpu==\"Scissors\":\n",
    "                print(2)\n",
    "                result=2\n",
    "        elif pl==\"Paper\":\n",
    "            if cpu==\"Rock\":\n",
    "                print(2)\n",
    "                result=2\n",
    "            elif cpu==\"Scissors\":\n",
    "                print(1)\n",
    "                result=1\n",
    "        elif pl==\"Scissors\":\n",
    "            if cpu==\"Rock\":\n",
    "                print(1)\n",
    "                result=1\n",
    "            elif cpu==\"Paper\":\n",
    "                print(2)\n",
    "                result=2\n",
    "        else:\n",
    "            print(\"KO\")\n"
   ]
  },
  {
   "cell_type": "markdown",
   "metadata": {},
   "source": [
    "#### 9. Define a function that prints the choice of the computer, the choice of the player and a message that announces who won the current round. \n",
    "You should also use this function to update the variables that count the number of rounds that the computer and the player have won. The score of the winner increases by one point. If there is a tie, the score does not increase."
   ]
  },
  {
   "cell_type": "code",
   "execution_count": 616,
   "metadata": {},
   "outputs": [],
   "source": [
    "def results(result):\n",
    "        global cpu_score\n",
    "        global player_score\n",
    "        if result==1:\n",
    "            print(\"Oh no!!The computer wins this round\")\n",
    "            cpu_score+=1\n",
    "        elif result==2:\n",
    "            print(\"Well done!!You win this round\")\n",
    "            player_score+=1\n",
    "        elif result==0:\n",
    "            print(\"It's a Tie!\")\n",
    "        else:\n",
    "            print(\"Ups, something went wrong!\")\n",
    "        \n",
    "        print(\"After this round,the player score is\",player_score)\n",
    "        print(\"After this round,the computer score is\",cpu_score)\n",
    "\n"
   ]
  },
  {
   "cell_type": "markdown",
   "metadata": {},
   "source": [
    "#### 10. Now it's time to code the execution of the game using the functions and variables you defined above. \n",
    "\n",
    "First, create a loop structure that repeats while no player reaches the minimum score necessary to win and the number of rounds is less than the maximum number of rounds to play in a game.  \n",
    "\n",
    "Inside the loop, use the functions and variables above to create the execution of a round: ask for the player's choice, generate the random choice of the computer, show the round results, update the scores, etc. "
   ]
  },
  {
   "cell_type": "code",
   "execution_count": 573,
   "metadata": {},
   "outputs": [
    {
     "name": "stdout",
     "output_type": "stream",
     "text": [
      "6\n",
      "Ups! No more rounds!, the final result is: \n",
      "The player score is 1 \n",
      "The computer score is 0\n",
      "Congratulations! You win the game!!\n"
     ]
    }
   ],
   "source": [
    "\n",
    "def superplay():\n",
    "    global cpu_score\n",
    "    global player_score\n",
    "    global result\n",
    "    while total_rounds <= n_rounds:\n",
    "        choose()\n",
    "        playcomputer()\n",
    "        play(pl,cpu)\n",
    "        results(result)\n",
    "    else:\n",
    "        print(\"Ups! No more rounds!, the final result is: \\nThe player score is\",player_score, \"\\nThe computer score is\",cpu_score )\n",
    "        if player_score > cpu_score:\n",
    "            print(\"Congratulations! You win the game!!\")\n",
    "        elif cpu_score > player_score:\n",
    "            print(\"Sorry! Computer wins the game\")\n",
    "        else:\n",
    "            print(\"It's a Tie!\")   \n",
    "print(total_rounds)\n",
    "\n",
    "superplay()"
   ]
  },
  {
   "cell_type": "markdown",
   "metadata": {},
   "source": [
    "#### 11. Print the winner of the game based on who won more rounds.\n",
    "Remember that the game might be tied. "
   ]
  },
  {
   "cell_type": "code",
   "execution_count": null,
   "metadata": {},
   "outputs": [],
   "source": [
    "#Done it in the previous code."
   ]
  },
  {
   "cell_type": "markdown",
   "metadata": {},
   "source": [
    "# Bonus: Rock, Paper, Scissors, Lizard & Spock\n",
    "![](images/rpsls.jpg)\n",
    "\n",
    "In this challenge, you need to improve the previous game by adding two new options. To know more about the rules of the improved version of rock, paper, scissors, check this [link](http://www.samkass.com/theories/RPSSL.html). \n",
    "\n",
    "In addition, you will also need to improve how the game interacts with the player: the number of rounds to play, which must be an odd number, will be requested to the user until a valid number is entered. Define a new function to make that request.\n",
    "\n",
    "**Hint**: Try to reuse the code that you already coded in the previous challenge. If your code is efficient, this bonus will only consist of simple modifications to the original game."
   ]
  },
  {
   "cell_type": "code",
   "execution_count": 618,
   "metadata": {},
   "outputs": [
    {
     "name": "stdout",
     "output_type": "stream",
     "text": [
      "How many rounds do you want to play 1\n",
      "The number of rounds are 1 Let's Play!!\n",
      "Rock, Paper, Scissors,Lizard,Spock? Paper\n",
      "The player choose Paper\n",
      "The computer choose Scissors\n",
      "1\n",
      "Oh no!!The computer wins this round\n",
      "After this round,the player score is 0\n",
      "After this round,the computer score is 1\n",
      "Rock, Paper, Scissors,Lizard,Spock? Spock\n",
      "The player choose Spock\n",
      "The computer choose Rock\n",
      "2\n",
      "Well done!!You win this round\n",
      "After this round,the player score is 1\n",
      "After this round,the computer score is 1\n",
      "Ups! No more rounds!, the final result is: \n",
      "The player score is 1 \n",
      "The computer score is 1\n",
      "It's a Tie!\n"
     ]
    }
   ],
   "source": [
    "gestures_2=[\"Rock\",\"Paper\",\"Scissors\",\"Lizard\",\"Spock\"]\n",
    "pl=\"\"\n",
    "cpu=\"\"\n",
    "n_rounds_2=0\n",
    "\n",
    "def rounds_num():\n",
    "    n=int(input(\"How many rounds do you want to play \"))\n",
    "    while True:\n",
    "        if n%2==0:\n",
    "            n=int(input(\"It must be an odd number, please enter an odd number of rounds:\"))\n",
    "        else:\n",
    "            global n_rounds_2\n",
    "            n_rounds_2=0\n",
    "            n_rounds_2+=n\n",
    "            print(\"The number of rounds are\",n,\"Let's Play!!\")\n",
    "            break\n",
    "            \n",
    "def choose2():\n",
    "    p=input(\"Rock, Paper, Scissors,Lizard,Spock? \") \n",
    "    while True:\n",
    "        if p not in gestures_2:\n",
    "            p=input(\"Try again!:\")\n",
    "        else:\n",
    "            global pl\n",
    "            pl=\"\"\n",
    "            pl+=p\n",
    "            print(\"The player choose\",pl)\n",
    "            break\n",
    "            \n",
    "def play2(pl,cpu):\n",
    "        global total_rounds\n",
    "        global result\n",
    "        total_rounds+=1\n",
    "        if pl==cpu:\n",
    "            print(0)\n",
    "            result=0\n",
    "        elif pl==\"Rock\":\n",
    "            if cpu==\"Paper\":\n",
    "                print(1)\n",
    "                result=1\n",
    "            elif cpu==\"Scissors\":\n",
    "                print(2)\n",
    "                result=2\n",
    "            elif cpu==\"Spock\":\n",
    "                print(1)\n",
    "                result=1\n",
    "            elif cpu==\"Lizard\":\n",
    "                print(2)\n",
    "                result=2\n",
    "        elif pl==\"Paper\":\n",
    "            if cpu==\"Rock\":\n",
    "                print(2)\n",
    "                result=2\n",
    "            elif cpu==\"Scissors\":\n",
    "                print(1)\n",
    "                result=1\n",
    "            elif cpu==\"Spock\":\n",
    "                print(2)\n",
    "                result=2\n",
    "            elif cpu==\"Lizard\":\n",
    "                print(1)\n",
    "                result=1\n",
    "        elif pl==\"Scissors\":\n",
    "            if cpu==\"Rock\":\n",
    "                print(1)\n",
    "                result=1\n",
    "            elif cpu==\"Paper\":\n",
    "                print(2)\n",
    "                result=2\n",
    "            elif cpu==\"Spock\":\n",
    "                print(1)\n",
    "                result=1\n",
    "            elif cpu==\"Lizard\":\n",
    "                return(2)\n",
    "                result=2\n",
    "        elif pl==\"Spock\":\n",
    "            if cpu==\"Rock\":\n",
    "                print(2)\n",
    "                result=2\n",
    "            elif cpu==\"Paper\":\n",
    "                print(1)\n",
    "                result=1\n",
    "            elif cpu==\"Scissors\":\n",
    "                print(2)\n",
    "                result=2\n",
    "            elif cpu==\"Lizard\":\n",
    "                print(1)  \n",
    "                result=1\n",
    "        elif pl==\"Lizard\":\n",
    "            if cpu==\"Rock\":\n",
    "                print(1)\n",
    "                result=1\n",
    "            elif cpu==\"Paper\":\n",
    "                print(2)\n",
    "                result=2\n",
    "            elif cpu==\"Scissors\":\n",
    "                print(1)\n",
    "                result=1\n",
    "            elif cpu==\"Spock\":\n",
    "                print(2) \n",
    "                result=2\n",
    "        else:\n",
    "            print(\"KO\")\n",
    "\n",
    "\n",
    "def superplay():\n",
    "    global cpu_score\n",
    "    global player_score\n",
    "    global result\n",
    "    while total_rounds <= n_rounds_2:\n",
    "        if n_rounds_2==0:\n",
    "            rounds_num()\n",
    "            choose2()\n",
    "            playcomputer()\n",
    "            play2(pl,cpu)\n",
    "            results(result)\n",
    "        else:\n",
    "            choose2()\n",
    "            playcomputer()\n",
    "            play2(pl,cpu)\n",
    "            results(result)\n",
    "    else:\n",
    "        print(\"Ups! No more rounds!, the final result is: \\nThe player score is\",player_score, \"\\nThe computer score is\",cpu_score )\n",
    "        if player_score > cpu_score:\n",
    "            print(\"Congratulations! You win the game!!\")\n",
    "        elif cpu_score > player_score:\n",
    "            print(\"Sorry! Computer wins the game\")\n",
    "        else:\n",
    "            print(\"It's a Tie!\")\n",
    "\n",
    "\n",
    "superplay()\n",
    "\n"
   ]
  }
 ],
 "metadata": {
  "kernelspec": {
   "display_name": "Python 3",
   "language": "python",
   "name": "python3"
  },
  "language_info": {
   "codemirror_mode": {
    "name": "ipython",
    "version": 3
   },
   "file_extension": ".py",
   "mimetype": "text/x-python",
   "name": "python",
   "nbconvert_exporter": "python",
   "pygments_lexer": "ipython3",
   "version": "3.7.4"
  }
 },
 "nbformat": 4,
 "nbformat_minor": 2
}
